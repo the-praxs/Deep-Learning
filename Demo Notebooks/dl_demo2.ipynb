{
  "nbformat": 4,
  "nbformat_minor": 0,
  "metadata": {
    "colab": {
      "name": "demo2-test.ipynb",
      "provenance": [],
      "collapsed_sections": []
    },
    "kernelspec": {
      "display_name": "Python 3",
      "name": "python3"
    }
  },
  "cells": [
    {
      "cell_type": "markdown",
      "metadata": {
        "id": "68Lj1b6Id1oX"
      },
      "source": [
        "# Backprop by hand\n",
        "\n",
        "This is a short demo of coding up backpropagation from scratch. \n",
        "\n",
        "*Health warning*: Don't really do this for each model. Just rely on Pytorch's\n",
        "\n",
        "```\n",
        " backward()\n",
        "```\n",
        "instead.\n",
        "\n",
        "First, let's download our usual MNIST dataset. \n",
        "\n"
      ]
    },
    {
      "cell_type": "code",
      "metadata": {
        "colab": {
          "base_uri": "https://localhost:8080/",
          "height": 282
        },
        "id": "kjvPSnDA4J_w",
        "outputId": "4cb0a15e-b23d-4881-de61-83d5a938ecce"
      },
      "source": [
        "import tensorflow as tf\n",
        "import matplotlib.pyplot as plt\n",
        "\n",
        "(x_train, y_train), (x_test, y_test) = tf.keras.datasets.mnist.load_data(path=\"mnist.npz\")\n",
        "\n",
        "plt.imshow(x_train[0])"
      ],
      "execution_count": 8,
      "outputs": [
        {
          "output_type": "execute_result",
          "data": {
            "text/plain": [
              "<matplotlib.image.AxesImage at 0x7f1ca2241210>"
            ]
          },
          "metadata": {},
          "execution_count": 8
        },
        {
          "output_type": "display_data",
          "data": {
            "image/png": "[encoded data removed]",
            "text/plain": [
              "<Figure size 432x288 with 1 Axes>"
            ]
          },
          "metadata": {
            "needs_background": "light"
          }
        }
      ]
    },
    {
      "cell_type": "markdown",
      "metadata": {
        "id": "Klx9qPmxF9jI"
      },
      "source": [
        "# Utility functions"
      ]
    },
    {
      "cell_type": "markdown",
      "metadata": {
        "id": "wv-CMWayfRyP"
      },
      "source": [
        "It will be helpful to recall the following definitions:\n",
        "\n",
        "$\\sigma(x) = \\frac{1}{1 + e^{-x}}$\n",
        "\n",
        "$\\nabla \\sigma(x) = \\sigma(x)(1 - \\sigma(x))$\n",
        "\n",
        "$\\text{softmax}(z)|_i = \\frac{e^{z_i}}{\\sum e^{z_i}}$\n",
        "\n",
        "$CE(y,\\hat{y}) = - \\sum y_i \\log \\hat{y}_i$"
      ]
    },
    {
      "cell_type": "code",
      "metadata": {
        "id": "sdyvaUKoF7ux"
      },
      "source": [
        "import numpy as np\n",
        "\n",
        "def sigmoid(x):\n",
        "  x = np.clip(x, -500, 500)\n",
        "  return 1 / (1 + np.exp(-x))\n",
        "\n",
        "def dsigmoid(x):\n",
        "  return sigmoid(x) * (1 - sigmoid(x))\n",
        "\n",
        "def softmax(x):\n",
        "  b = x.max()\n",
        "  y = np.exp(x - b)\n",
        "  return y / y.sum()\n",
        "\n",
        "def cross_entropy_loss(y, yHat):\n",
        "  return -np.sum(y * np.log(yHat))\n",
        "\n",
        "def integer_to_one_hot(x, numclasses):\n",
        "  result = np.zeros(numclasses)\n",
        "  result[x] = 1\n",
        "  return result"
      ],
      "execution_count": 9,
      "outputs": []
    },
    {
      "cell_type": "markdown",
      "metadata": {
        "id": "_xIZEupTHyNM"
      },
      "source": [
        "# Initialize architecture, weights, and biases"
      ]
    },
    {
      "cell_type": "code",
      "metadata": {
        "id": "zBeGvbu6FaM_"
      },
      "source": [
        "import math\n",
        "\n",
        "weights = [\n",
        "  np.random.normal(0, 1/math.sqrt(784), (784, 100)),\n",
        "  np.random.normal(0, 1/math.sqrt(100), (100, 10))\n",
        "]\n",
        "biases = [np.zeros((1,100)), np.zeros((1,10))]\n"
      ],
      "execution_count": 10,
      "outputs": []
    },
    {
      "cell_type": "markdown",
      "metadata": {
        "id": "XP3nT3u-8Hsc"
      },
      "source": [
        "Let's just check to see that our network works by setting up a forward pass function. (This will also help evaluate test error later on)"
      ]
    },
    {
      "cell_type": "code",
      "metadata": {
        "id": "hSs7_MKRt7TV"
      },
      "source": [
        "def feed_forward_sample(sample, y):\n",
        "  a = np.reshape(sample,(1,28*28))\n",
        "\n",
        "  # Forward pass\n",
        "  u1 = np.dot(a,weights[0]) + biases[0]\n",
        "  z1 = sigmoid(u1)\n",
        "  u2 = np.dot(z1,weights[1]) + biases[1]\n",
        "  yhat = softmax(u2)\n",
        "\n",
        "  # Calculate loss\n",
        "  pred_class = np.argmax(yhat)\n",
        "  one_hot_guess = integer_to_one_hot(pred_class,10)\n",
        "  yvector = integer_to_one_hot(y,10)\n",
        "  loss = cross_entropy_loss(yvector,yhat)\n",
        "  \n",
        "  return loss, one_hot_guess\n",
        "\n",
        "def feed_forward_dataset(x, y):\n",
        "  losses = np.empty(x.shape[0])\n",
        "  one_hot_guesses = np.empty((x.shape[0], 10))\n",
        "\n",
        "  for i in range(x.shape[0]):\n",
        "    sample = np.reshape(x[i],(1,28*28))\n",
        "    losses[i], one_hot_guesses[i] = feed_forward_sample(sample, y[i])\n",
        "\n",
        "  y_one_hot = np.zeros((y.size, 10))\n",
        "  y_one_hot[np.arange(y.size), y] = 1\n",
        "\n",
        "  total_correct_guesses = np.sum(y_one_hot * one_hot_guesses)\n",
        "  accuracy = format((total_correct_guesses / y.shape[0]) * 100, \".2f\")\n",
        "  print(\"Accuracy:\", accuracy, \"%)\")"
      ],
      "execution_count": 11,
      "outputs": []
    },
    {
      "cell_type": "markdown",
      "metadata": {
        "id": "sSrlc2VLOi8L"
      },
      "source": [
        "# Backprop\n",
        "\n",
        "We go back up the computation graph, starting with differentiating the loss function with respect to the last-layer activations, and successively go backwards using the chain rule. Recall that the computation graph looks like:\n",
        "\n",
        "$x \\rightarrow u_1 \\rightarrow z_1 \\rightarrow u_2 \\rightarrow \\hat{y} \\rightarrow L$\n",
        "\n",
        "Some equations to consider:\n",
        "\n",
        "$\\partial_{u_2} L = \\hat{y} - y$\n",
        "\n",
        "$\\partial_{w_2} L = \\partial_{u_2} L \\cdot \\partial_{w_2} u_2 = (\\hat{y} - y) z_1^T$\n",
        "\n",
        "$\\partial_{b_2} L = \\partial_{u_2} L \\cdot \\partial_{b_2} u_2 = \\hat{y} - y$\n",
        "\n",
        "$\\partial_{z_1} L = \\partial_{u_2} L \\cdot \\partial_{z_1} u_2 = (\\hat{y} - y) \\cdot W_1$\n",
        "\n",
        "$\\partial_{u_1} L = \\partial_{z_1} L \\cdot \\partial_{u_1} z_1 = (\\hat{y} - y) \\cdot W_1 \\cdot \\sigma'(u_1)$\n",
        "\n"
      ]
    },
    {
      "cell_type": "code",
      "metadata": {
        "id": "nLgrl6VNn8pB"
      },
      "source": [
        "def train_one_sample(sample, y, learning_rate=0.003):\n",
        "  a = np.reshape(sample,(1,28*28))\n",
        "\n",
        "  # intermediate variables\n",
        "  weight_gradients = []\n",
        "  bias_gradients = []\n",
        "\n",
        "  # Forward pass\n",
        "  u1 = np.dot(a,weights[0]) + biases[0]\n",
        "  z1 = sigmoid(u1)\n",
        "  u2 = np.dot(z1,weights[1]) + biases[1]\n",
        "  yhat = softmax(u2)\n",
        "\n",
        "  # Calculate loss\n",
        "  pred_class = np.argmax(yhat)\n",
        "  one_hot_guess = integer_to_one_hot(pred_class,10)\n",
        "  yvector = integer_to_one_hot(y,10)\n",
        "  loss = cross_entropy_loss(yvector,yhat)\n",
        "\n",
        "  # Backward pass\n",
        "  du2 = yhat - yvector\n",
        "  dw2 = z1.T.dot(du2)\n",
        "  db2 = du2\n",
        "  \n",
        "  dz1 = du2.dot(weights[1].T)\n",
        "  du1 = np.multiply(dz1,dsigmoid(u1))\n",
        "  dw1 = a.T.dot(du1)\n",
        "  db1 = du1\n",
        "\n",
        "  weight_gradients.append(dw1)\n",
        "  weight_gradients.append(dw2)\n",
        "  bias_gradients.append(db1)\n",
        "  bias_gradients.append(db2)\n",
        "\n",
        "  # update weights\n",
        "  num_layers = 2\n",
        "  for i in range(num_layers):\n",
        "    weights[i] = weights[i] - learning_rate * weight_gradients[i]\n",
        "    biases[i] = biases[i] - learning_rate * bias_gradients[i]\n",
        "  \n",
        "  return loss\n"
      ],
      "execution_count": 12,
      "outputs": []
    },
    {
      "cell_type": "markdown",
      "metadata": {
        "id": "lNMxpc7WLs6u"
      },
      "source": [
        "# Testing\n",
        "\n",
        "Great! Let's see how well we do. We can run the backward pass sample-by-sample, collect (all) gradients, and use them to update our weights/biases. Normally we would do this on the GPU; using plain numpy and CPU will take some time so we only train for 3 epochs.\n",
        "\n",
        "After each epoch, we measure and report the test accuracy. We see that within a couple of epochs we reach close to 90\\% accuracy, which is about the best we can hope to do with a one-hidden-layer network."
      ]
    },
    {
      "cell_type": "code",
      "metadata": {
        "colab": {
          "base_uri": "https://localhost:8080/"
        },
        "id": "BLLEsVdcOgzi",
        "outputId": "331cab48-cca9-4b6a-dfed-55e2dc33e19a"
      },
      "source": [
        "def train_one_epoch(learning_rate=0.001):\n",
        "  print(\"Training for one epoch over the training dataset...\")\n",
        "  for i in range(x_train.shape[0]):\n",
        "    train_one_sample(x_train[i], y_train[i], learning_rate)\n",
        "  print(\"Finished training.\\n\")\n",
        "\n",
        "# Train and check accuracy before & after each epoch\n",
        "\n",
        "def test_and_train():\n",
        "  train_one_epoch()\n",
        "  feed_forward_dataset(x_test, y_test)\n",
        "\n",
        "for i in range(3): # Adjust number of epochs here\n",
        "  test_and_train()"
      ],
      "execution_count": 13,
      "outputs": [
        {
          "output_type": "stream",
          "name": "stdout",
          "text": [
            "Training for one epoch over the training dataset...\n",
            "Finished training.\n",
            "\n",
            "Accuracy: 87.45 %)\n",
            "Training for one epoch over the training dataset...\n",
            "Finished training.\n",
            "\n",
            "Accuracy: 87.09 %)\n",
            "Training for one epoch over the training dataset...\n",
            "Finished training.\n",
            "\n",
            "Accuracy: 87.20 %)\n"
          ]
        }
      ]
    },
    {
      "cell_type": "markdown",
      "metadata": {
        "id": "VILEun5C7o-0"
      },
      "source": [
        "Great! Feel free to play around with architectures, learning rates, etc to figure out if you can get better performance. (Also, the datasets are unnormalized; it may help to pre-process all data points and normalize to [0,1]."
      ]
    }
  ]
}