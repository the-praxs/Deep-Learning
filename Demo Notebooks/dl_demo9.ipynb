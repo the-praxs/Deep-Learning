{
  "nbformat": 4,
  "nbformat_minor": 0,
  "metadata": {
    "colab": {
      "name": "demo9.ipynb",
      "provenance": []
    },
    "kernelspec": {
      "name": "python3",
      "display_name": "Python 3"
    },
    "language_info": {
      "name": "python"
    }
  },
  "cells": [
    {
      "cell_type": "markdown",
      "metadata": {
        "id": "_zy_jLrdxA5T"
      },
      "source": [
        "# Reinforcement Learning Basics\n",
        "\n",
        "\n",
        "In this notebook we will:\n",
        "\n",
        "* Introduce the OpenAI Gym library, which is super helpful to understand (and do research in) reinforcement learning in Pytorch.\n",
        "* Learn how to code up an RL model using policy gradients.\n"
      ]
    },
    {
      "cell_type": "markdown",
      "metadata": {
        "id": "m6sJMIR7xEZS"
      },
      "source": [
        "# The OpenAI Gym\n",
        "\n",
        "Here is a list of environments you can play with.\n",
        "https://gym.openai.com/envs/"
      ]
    },
    {
      "cell_type": "code",
      "metadata": {
        "id": "LhtLacP-wurD"
      },
      "source": [
        "import torch\n",
        "import torch.nn as nn\n",
        "import torch.optim as optim\n",
        "import torch.nn.functional as F\n",
        "import torch.distributions as distributions\n",
        "\n",
        "%matplotlib inline\n",
        "import matplotlib.pyplot as plt\n",
        "import numpy as np\n",
        "import gym"
      ],
      "execution_count": 1,
      "outputs": []
    },
    {
      "cell_type": "markdown",
      "metadata": {
        "id": "WDWdNIwfxSwY"
      },
      "source": [
        "## Examples of environments\n",
        "\n",
        "There is the familiar [Cartpole](https://gym.openai.com/envs/CartPole-v1/) environment..."
      ]
    },
    {
      "cell_type": "code",
      "metadata": {
        "id": "9fs1lzEvxSR7"
      },
      "source": [
        "env = gym.make('CartPole-v1')"
      ],
      "execution_count": 2,
      "outputs": []
    },
    {
      "cell_type": "code",
      "metadata": {
        "colab": {
          "base_uri": "https://localhost:8080/"
        },
        "id": "ngxZduMRxhDq",
        "outputId": "28f1f1b0-f0d7-438a-d9ed-997d9510779a"
      },
      "source": [
        "print(env.observation_space)\n",
        "print(env.observation_space.shape)"
      ],
      "execution_count": 3,
      "outputs": [
        {
          "output_type": "stream",
          "name": "stdout",
          "text": [
            "Box(-3.4028234663852886e+38, 3.4028234663852886e+38, (4,), float32)\n",
            "(4,)\n"
          ]
        }
      ]
    },
    {
      "cell_type": "code",
      "metadata": {
        "colab": {
          "base_uri": "https://localhost:8080/"
        },
        "id": "vLglGkAwyKm2",
        "outputId": "06e0915b-871a-4608-bf25-042edf72191a"
      },
      "source": [
        "print(env.action_space)"
      ],
      "execution_count": 4,
      "outputs": [
        {
          "output_type": "stream",
          "name": "stdout",
          "text": [
            "Discrete(2)\n"
          ]
        }
      ]
    },
    {
      "cell_type": "markdown",
      "metadata": {
        "id": "lpS5ng50ya3m"
      },
      "source": [
        "Below, we will train an RL model using Policy Gradients for this environment.\n",
        "\n",
        "There are also more complex environments. For example, classic video games from [Atari](http://www.atarimania.com/) can be solved via RL."
      ]
    },
    {
      "cell_type": "code",
      "metadata": {
        "colab": {
          "base_uri": "https://localhost:8080/"
        },
        "id": "VjD1tLhYypWO",
        "outputId": "a20fa834-bc52-4c6d-ce5f-a4dc56c30442"
      },
      "source": [
        "import urllib.request\n",
        "urllib.request.urlretrieve('http://www.atarimania.com/roms/Roms.rar','Roms.rar')\n",
        "!pip install unrar\n",
        "!unrar x Roms.rar\n",
        "!mkdir rars\n",
        "!mv HC\\ ROMS.zip   rars\n",
        "!mv ROMS.zip  rars\n",
        "!python -m atari_py.import_roms rars"
      ],
      "execution_count": 5,
      "outputs": [
        {
          "output_type": "stream",
          "name": "stdout",
          "text": [
            "Collecting unrar\n",
            "  Downloading unrar-0.4-py3-none-any.whl (25 kB)\n",
            "Installing collected packages: unrar\n",
            "Successfully installed unrar-0.4\n",
            "\n",
            "UNRAR 5.50 freeware      Copyright (c) 1993-2017 Alexander Roshal\n",
            "\n",
            "\n",
            "Extracting from Roms.rar\n",
            "\n",
            "Extracting  HC ROMS.zip                                                  \b\b\b\b 36%\b\b\b\b\b  OK \n",
            "Extracting  ROMS.zip                                                     \b\b\b\b 74%\b\b\b\b 99%\b\b\b\b\b  OK \n",
            "All OK\n",
            "copying adventure.bin from HC ROMS/BY ALPHABET (PAL)/A-G/Adventure (PAL).bin to /usr/local/lib/python3.7/dist-packages/atari_py/atari_roms/adventure.bin\n",
            "copying air_raid.bin from HC ROMS/BY ALPHABET (PAL)/A-G/Air Raid (PAL).bin to /usr/local/lib/python3.7/dist-packages/atari_py/atari_roms/air_raid.bin\n",
            "copying alien.bin from HC ROMS/BY ALPHABET (PAL)/A-G/REMAINING NTSC ORIGINALS/Alien.bin to /usr/local/lib/python3.7/dist-packages/atari_py/atari_roms/alien.bin\n",
            "copying crazy_climber.bin from HC ROMS/BY ALPHABET (PAL)/A-G/REMAINING NTSC ORIGINALS/Crazy Climber.bin to /usr/local/lib/python3.7/dist-packages/atari_py/atari_roms/crazy_climber.bin\n",
            "copying elevator_action.bin from HC ROMS/BY ALPHABET (PAL)/A-G/REMAINING NTSC ORIGINALS/Elevator Action (Prototype).bin to /usr/local/lib/python3.7/dist-packages/atari_py/atari_roms/elevator_action.bin\n",
            "copying gravitar.bin from HC ROMS/BY ALPHABET (PAL)/A-G/REMAINING NTSC ORIGINALS/Gravitar.bin to /usr/local/lib/python3.7/dist-packages/atari_py/atari_roms/gravitar.bin\n",
            "copying keystone_kapers.bin from HC ROMS/BY ALPHABET (PAL)/H-R/Keystone Kapers (PAL).bin to /usr/local/lib/python3.7/dist-packages/atari_py/atari_roms/keystone_kapers.bin\n",
            "copying king_kong.bin from HC ROMS/BY ALPHABET (PAL)/H-R/King Kong (PAL).bin to /usr/local/lib/python3.7/dist-packages/atari_py/atari_roms/king_kong.bin\n",
            "copying laser_gates.bin from HC ROMS/BY ALPHABET (PAL)/H-R/Laser Gates (PAL).bin to /usr/local/lib/python3.7/dist-packages/atari_py/atari_roms/laser_gates.bin\n",
            "copying mr_do.bin from HC ROMS/BY ALPHABET (PAL)/H-R/Mr. Do! (PAL).bin to /usr/local/lib/python3.7/dist-packages/atari_py/atari_roms/mr_do.bin\n",
            "copying pacman.bin from HC ROMS/BY ALPHABET (PAL)/H-R/Pac-Man (PAL).bin to /usr/local/lib/python3.7/dist-packages/atari_py/atari_roms/pacman.bin\n",
            "copying jamesbond.bin from HC ROMS/BY ALPHABET (PAL)/H-R/REMAINING NTSC ORIGINALS/James Bond 007.bin to /usr/local/lib/python3.7/dist-packages/atari_py/atari_roms/jamesbond.bin\n",
            "copying koolaid.bin from HC ROMS/BY ALPHABET (PAL)/H-R/REMAINING NTSC ORIGINALS/Kool-Aid Man.bin to /usr/local/lib/python3.7/dist-packages/atari_py/atari_roms/koolaid.bin\n",
            "copying krull.bin from HC ROMS/BY ALPHABET (PAL)/H-R/REMAINING NTSC ORIGINALS/Krull.bin to /usr/local/lib/python3.7/dist-packages/atari_py/atari_roms/krull.bin\n",
            "copying montezuma_revenge.bin from HC ROMS/BY ALPHABET (PAL)/H-R/REMAINING NTSC ORIGINALS/Montezuma's Revenge - Featuring Panama Joe.bin to /usr/local/lib/python3.7/dist-packages/atari_py/atari_roms/montezuma_revenge.bin\n",
            "copying star_gunner.bin from HC ROMS/BY ALPHABET (PAL)/S-Z/REMAINING NTSC ORIGINALS/Stargunner.bin to /usr/local/lib/python3.7/dist-packages/atari_py/atari_roms/star_gunner.bin\n",
            "copying time_pilot.bin from HC ROMS/BY ALPHABET (PAL)/S-Z/REMAINING NTSC ORIGINALS/Time Pilot.bin to /usr/local/lib/python3.7/dist-packages/atari_py/atari_roms/time_pilot.bin\n",
            "copying up_n_down.bin from HC ROMS/BY ALPHABET (PAL)/S-Z/REMAINING NTSC ORIGINALS/Up 'n Down.bin to /usr/local/lib/python3.7/dist-packages/atari_py/atari_roms/up_n_down.bin\n",
            "copying sir_lancelot.bin from HC ROMS/BY ALPHABET (PAL)/S-Z/Sir Lancelot (PAL).bin to /usr/local/lib/python3.7/dist-packages/atari_py/atari_roms/sir_lancelot.bin\n",
            "copying amidar.bin from HC ROMS/BY ALPHABET/A-G/Amidar.bin to /usr/local/lib/python3.7/dist-packages/atari_py/atari_roms/amidar.bin\n",
            "copying asteroids.bin from HC ROMS/BY ALPHABET/A-G/Asteroids [no copyright].bin to /usr/local/lib/python3.7/dist-packages/atari_py/atari_roms/asteroids.bin\n",
            "copying atlantis.bin from HC ROMS/BY ALPHABET/A-G/Atlantis.bin to /usr/local/lib/python3.7/dist-packages/atari_py/atari_roms/atlantis.bin\n",
            "copying bank_heist.bin from HC ROMS/BY ALPHABET/A-G/Bank Heist.bin to /usr/local/lib/python3.7/dist-packages/atari_py/atari_roms/bank_heist.bin\n",
            "copying battle_zone.bin from HC ROMS/BY ALPHABET/A-G/Battlezone.bin to /usr/local/lib/python3.7/dist-packages/atari_py/atari_roms/battle_zone.bin\n",
            "copying beam_rider.bin from HC ROMS/BY ALPHABET/A-G/Beamrider.bin to /usr/local/lib/python3.7/dist-packages/atari_py/atari_roms/beam_rider.bin\n",
            "copying berzerk.bin from HC ROMS/BY ALPHABET/A-G/Berzerk.bin to /usr/local/lib/python3.7/dist-packages/atari_py/atari_roms/berzerk.bin\n",
            "copying bowling.bin from HC ROMS/BY ALPHABET/A-G/Bowling.bin to /usr/local/lib/python3.7/dist-packages/atari_py/atari_roms/bowling.bin\n",
            "copying boxing.bin from HC ROMS/BY ALPHABET/A-G/Boxing.bin to /usr/local/lib/python3.7/dist-packages/atari_py/atari_roms/boxing.bin\n",
            "copying breakout.bin from HC ROMS/BY ALPHABET/A-G/Breakout - Breakaway IV.bin to /usr/local/lib/python3.7/dist-packages/atari_py/atari_roms/breakout.bin\n",
            "copying carnival.bin from HC ROMS/BY ALPHABET/A-G/Carnival.bin to /usr/local/lib/python3.7/dist-packages/atari_py/atari_roms/carnival.bin\n",
            "copying centipede.bin from HC ROMS/BY ALPHABET/A-G/Centipede.bin to /usr/local/lib/python3.7/dist-packages/atari_py/atari_roms/centipede.bin\n",
            "copying chopper_command.bin from HC ROMS/BY ALPHABET/A-G/Chopper Command.bin to /usr/local/lib/python3.7/dist-packages/atari_py/atari_roms/chopper_command.bin\n",
            "copying defender.bin from HC ROMS/BY ALPHABET/A-G/Defender.bin to /usr/local/lib/python3.7/dist-packages/atari_py/atari_roms/defender.bin\n",
            "copying demon_attack.bin from HC ROMS/BY ALPHABET/A-G/Demon Attack.bin to /usr/local/lib/python3.7/dist-packages/atari_py/atari_roms/demon_attack.bin\n",
            "copying donkey_kong.bin from HC ROMS/BY ALPHABET/A-G/Donkey Kong.bin to /usr/local/lib/python3.7/dist-packages/atari_py/atari_roms/donkey_kong.bin\n",
            "copying double_dunk.bin from HC ROMS/BY ALPHABET/A-G/Double Dunk.bin to /usr/local/lib/python3.7/dist-packages/atari_py/atari_roms/double_dunk.bin\n",
            "copying enduro.bin from HC ROMS/BY ALPHABET/A-G/Enduro.bin to /usr/local/lib/python3.7/dist-packages/atari_py/atari_roms/enduro.bin\n",
            "copying fishing_derby.bin from HC ROMS/BY ALPHABET/A-G/Fishing Derby.bin to /usr/local/lib/python3.7/dist-packages/atari_py/atari_roms/fishing_derby.bin\n",
            "copying freeway.bin from HC ROMS/BY ALPHABET/A-G/Freeway.bin to /usr/local/lib/python3.7/dist-packages/atari_py/atari_roms/freeway.bin\n",
            "copying frogger.bin from HC ROMS/BY ALPHABET/A-G/Frogger.bin to /usr/local/lib/python3.7/dist-packages/atari_py/atari_roms/frogger.bin\n",
            "copying frostbite.bin from HC ROMS/BY ALPHABET/A-G/Frostbite.bin to /usr/local/lib/python3.7/dist-packages/atari_py/atari_roms/frostbite.bin\n",
            "copying galaxian.bin from HC ROMS/BY ALPHABET/A-G/Galaxian.bin to /usr/local/lib/python3.7/dist-packages/atari_py/atari_roms/galaxian.bin\n",
            "copying gopher.bin from HC ROMS/BY ALPHABET/A-G/Gopher.bin to /usr/local/lib/python3.7/dist-packages/atari_py/atari_roms/gopher.bin\n",
            "copying hero.bin from HC ROMS/BY ALPHABET/H-R/H.E.R.O..bin to /usr/local/lib/python3.7/dist-packages/atari_py/atari_roms/hero.bin\n",
            "copying ice_hockey.bin from HC ROMS/BY ALPHABET/H-R/Ice Hockey.bin to /usr/local/lib/python3.7/dist-packages/atari_py/atari_roms/ice_hockey.bin\n",
            "copying journey_escape.bin from HC ROMS/BY ALPHABET/H-R/Journey Escape.bin to /usr/local/lib/python3.7/dist-packages/atari_py/atari_roms/journey_escape.bin\n",
            "copying kaboom.bin from HC ROMS/BY ALPHABET/H-R/Kaboom!.bin to /usr/local/lib/python3.7/dist-packages/atari_py/atari_roms/kaboom.bin\n",
            "copying kangaroo.bin from HC ROMS/BY ALPHABET/H-R/Kangaroo.bin to /usr/local/lib/python3.7/dist-packages/atari_py/atari_roms/kangaroo.bin\n",
            "copying kung_fu_master.bin from HC ROMS/BY ALPHABET/H-R/Kung-Fu Master.bin to /usr/local/lib/python3.7/dist-packages/atari_py/atari_roms/kung_fu_master.bin\n",
            "copying lost_luggage.bin from HC ROMS/BY ALPHABET/H-R/Lost Luggage [no opening scene].bin to /usr/local/lib/python3.7/dist-packages/atari_py/atari_roms/lost_luggage.bin\n",
            "copying ms_pacman.bin from HC ROMS/BY ALPHABET/H-R/Ms. Pac-Man.bin to /usr/local/lib/python3.7/dist-packages/atari_py/atari_roms/ms_pacman.bin\n",
            "copying name_this_game.bin from HC ROMS/BY ALPHABET/H-R/Name This Game.bin to /usr/local/lib/python3.7/dist-packages/atari_py/atari_roms/name_this_game.bin\n",
            "copying phoenix.bin from HC ROMS/BY ALPHABET/H-R/Phoenix.bin to /usr/local/lib/python3.7/dist-packages/atari_py/atari_roms/phoenix.bin\n",
            "copying pitfall.bin from HC ROMS/BY ALPHABET/H-R/Pitfall! - Pitfall Harry's Jungle Adventure.bin to /usr/local/lib/python3.7/dist-packages/atari_py/atari_roms/pitfall.bin\n",
            "copying pooyan.bin from HC ROMS/BY ALPHABET/H-R/Pooyan.bin to /usr/local/lib/python3.7/dist-packages/atari_py/atari_roms/pooyan.bin\n",
            "copying private_eye.bin from HC ROMS/BY ALPHABET/H-R/Private Eye.bin to /usr/local/lib/python3.7/dist-packages/atari_py/atari_roms/private_eye.bin\n",
            "copying qbert.bin from HC ROMS/BY ALPHABET/H-R/Q-bert.bin to /usr/local/lib/python3.7/dist-packages/atari_py/atari_roms/qbert.bin\n",
            "copying riverraid.bin from HC ROMS/BY ALPHABET/H-R/River Raid.bin to /usr/local/lib/python3.7/dist-packages/atari_py/atari_roms/riverraid.bin\n",
            "copying road_runner.bin from patched version of HC ROMS/BY ALPHABET/H-R/Road Runner.bin to /usr/local/lib/python3.7/dist-packages/atari_py/atari_roms/road_runner.bin\n",
            "copying robotank.bin from HC ROMS/BY ALPHABET/H-R/Robot Tank.bin to /usr/local/lib/python3.7/dist-packages/atari_py/atari_roms/robotank.bin\n",
            "copying seaquest.bin from HC ROMS/BY ALPHABET/S-Z/Seaquest.bin to /usr/local/lib/python3.7/dist-packages/atari_py/atari_roms/seaquest.bin\n",
            "copying skiing.bin from HC ROMS/BY ALPHABET/S-Z/Skiing.bin to /usr/local/lib/python3.7/dist-packages/atari_py/atari_roms/skiing.bin\n",
            "copying solaris.bin from HC ROMS/BY ALPHABET/S-Z/Solaris.bin to /usr/local/lib/python3.7/dist-packages/atari_py/atari_roms/solaris.bin\n",
            "copying space_invaders.bin from HC ROMS/BY ALPHABET/S-Z/Space Invaders.bin to /usr/local/lib/python3.7/dist-packages/atari_py/atari_roms/space_invaders.bin\n",
            "copying surround.bin from HC ROMS/BY ALPHABET/S-Z/Surround - Chase.bin to /usr/local/lib/python3.7/dist-packages/atari_py/atari_roms/surround.bin\n",
            "copying tennis.bin from HC ROMS/BY ALPHABET/S-Z/Tennis.bin to /usr/local/lib/python3.7/dist-packages/atari_py/atari_roms/tennis.bin\n",
            "copying trondead.bin from HC ROMS/BY ALPHABET/S-Z/TRON - Deadly Discs.bin to /usr/local/lib/python3.7/dist-packages/atari_py/atari_roms/trondead.bin\n",
            "copying tutankham.bin from HC ROMS/BY ALPHABET/S-Z/Tutankham.bin to /usr/local/lib/python3.7/dist-packages/atari_py/atari_roms/tutankham.bin\n",
            "copying venture.bin from HC ROMS/BY ALPHABET/S-Z/Venture.bin to /usr/local/lib/python3.7/dist-packages/atari_py/atari_roms/venture.bin\n",
            "copying pong.bin from HC ROMS/BY ALPHABET/S-Z/Video Olympics - Pong Sports.bin to /usr/local/lib/python3.7/dist-packages/atari_py/atari_roms/pong.bin\n",
            "copying video_pinball.bin from HC ROMS/BY ALPHABET/S-Z/Video Pinball - Arcade Pinball.bin to /usr/local/lib/python3.7/dist-packages/atari_py/atari_roms/video_pinball.bin\n",
            "copying wizard_of_wor.bin from HC ROMS/BY ALPHABET/S-Z/Wizard of Wor.bin to /usr/local/lib/python3.7/dist-packages/atari_py/atari_roms/wizard_of_wor.bin\n",
            "copying yars_revenge.bin from HC ROMS/BY ALPHABET/S-Z/Yars' Revenge.bin to /usr/local/lib/python3.7/dist-packages/atari_py/atari_roms/yars_revenge.bin\n",
            "copying zaxxon.bin from HC ROMS/BY ALPHABET/S-Z/Zaxxon.bin to /usr/local/lib/python3.7/dist-packages/atari_py/atari_roms/zaxxon.bin\n",
            "copying assault.bin from HC ROMS/NTSC VERSIONS OF PAL ORIGINALS/Assault (AKA Sky Alien) (1983) (Bomb - Onbase) (CA281).bin to /usr/local/lib/python3.7/dist-packages/atari_py/atari_roms/assault.bin\n",
            "copying asterix.bin from ROMS/Asterix (AKA Taz) (07-27-1983) (Atari, Jerome Domurat, Steve Woita) (CX2696) (Prototype).bin to /usr/local/lib/python3.7/dist-packages/atari_py/atari_roms/asterix.bin\n"
          ]
        }
      ]
    },
    {
      "cell_type": "code",
      "metadata": {
        "id": "ht90E_MbzELy"
      },
      "source": [
        "env = gym.make('Freeway-v0')"
      ],
      "execution_count": 6,
      "outputs": []
    },
    {
      "cell_type": "code",
      "metadata": {
        "colab": {
          "base_uri": "https://localhost:8080/"
        },
        "id": "gDLQxoR0zWI1",
        "outputId": "8e99318a-3a43-4f88-df50-4f6ebafd422e"
      },
      "source": [
        "print(env.observation_space)\n",
        "print(env.action_space)"
      ],
      "execution_count": 7,
      "outputs": [
        {
          "output_type": "stream",
          "name": "stdout",
          "text": [
            "Box(0, 255, (210, 160, 3), uint8)\n",
            "Discrete(3)\n"
          ]
        }
      ]
    },
    {
      "cell_type": "code",
      "metadata": {
        "colab": {
          "base_uri": "https://localhost:8080/"
        },
        "id": "CDpOo0-tzrTl",
        "outputId": "60cf9e51-8c53-4844-d2dd-f6851f6dda60"
      },
      "source": [
        "env.seed(1234)\n",
        "state = env.reset()\n",
        "print(state.shape)"
      ],
      "execution_count": 10,
      "outputs": [
        {
          "output_type": "stream",
          "name": "stdout",
          "text": [
            "(210, 160, 3)\n"
          ]
        }
      ]
    },
    {
      "cell_type": "code",
      "metadata": {
        "colab": {
          "base_uri": "https://localhost:8080/",
          "height": 286
        },
        "id": "a22ZL8rHz27F",
        "outputId": "3adc1433-d86d-43c8-f81b-4725209db646"
      },
      "source": [
        "plt.imshow(state)"
      ],
      "execution_count": 11,
      "outputs": [
        {
          "output_type": "execute_result",
          "data": {
            "text/plain": [
              "<matplotlib.image.AxesImage at 0x7f349822a350>"
            ]
          },
          "metadata": {},
          "execution_count": 11
        },
        {
          "output_type": "display_data",
          "data": {
            "image/png": "[encoded data removed]",
            "text/plain": [
              "<Figure size 432x288 with 1 Axes>"
            ]
          },
          "metadata": {
            "needs_background": "light"
          }
        }
      ]
    },
    {
      "cell_type": "code",
      "metadata": {
        "colab": {
          "base_uri": "https://localhost:8080/"
        },
        "id": "Nc5rmAeQzefB",
        "outputId": "73b785e9-93d5-4f00-a8df-a8e01b326b9f"
      },
      "source": [
        "print(env.unwrapped.get_action_meanings())"
      ],
      "execution_count": 9,
      "outputs": [
        {
          "output_type": "stream",
          "name": "stdout",
          "text": [
            "['NOOP', 'UP', 'DOWN']\n"
          ]
        }
      ]
    },
    {
      "cell_type": "code",
      "metadata": {
        "colab": {
          "base_uri": "https://localhost:8080/",
          "height": 269
        },
        "id": "27dM1ybN0QK0",
        "outputId": "8cc0d1d4-21ea-441e-80e8-e434e2bea86d"
      },
      "source": [
        "up_action = env.unwrapped.get_action_meanings().index('UP')\n",
        "state = env.reset()\n",
        "for i in range(10):\n",
        "  state, reward, done, info = env.step(up_action)\n",
        "  plt.imshow(state)"
      ],
      "execution_count": 17,
      "outputs": [
        {
          "output_type": "display_data",
          "data": {
            "image/png": "[encoded data removed]",
            "text/plain": [
              "<Figure size 432x288 with 1 Axes>"
            ]
          },
          "metadata": {
            "needs_background": "light"
          }
        }
      ]
    },
    {
      "cell_type": "markdown",
      "metadata": {
        "id": "xBx_1gZC07GJ"
      },
      "source": [
        "# Policy Gradients\n",
        "\n",
        "Let's train an RL model using PG. These are called \"policy networks\"."
      ]
    },
    {
      "cell_type": "code",
      "metadata": {
        "id": "_UIvKiN-1BV8"
      },
      "source": [
        "train_env = gym.make('CartPole-v1')\n",
        "test_env = gym.make('CartPole-v1')"
      ],
      "execution_count": 18,
      "outputs": []
    },
    {
      "cell_type": "code",
      "metadata": {
        "colab": {
          "base_uri": "https://localhost:8080/"
        },
        "id": "nxNceH2p1E9Z",
        "outputId": "e25c01c4-1c00-44e9-800a-c580699e3728"
      },
      "source": [
        "seed = 1234\n",
        "train_env.seed(seed)\n",
        "test_env.seed(seed+1)\n",
        "np.random.seed(seed)\n",
        "torch.manual_seed(seed)"
      ],
      "execution_count": 30,
      "outputs": [
        {
          "output_type": "execute_result",
          "data": {
            "text/plain": [
              "<torch._C.Generator at 0x7f34a3b13410>"
            ]
          },
          "metadata": {},
          "execution_count": 30
        }
      ]
    },
    {
      "cell_type": "markdown",
      "metadata": {
        "id": "CiiO3mjZ1TnN"
      },
      "source": [
        "Our policy network will be a shallow MLP. It will take in as inputs a sequence of states, and learn to produce actions. "
      ]
    },
    {
      "cell_type": "code",
      "metadata": {
        "id": "gwOIpOv21oMm"
      },
      "source": [
        "class PolicyNet(nn.Module):\n",
        "    def __init__(self, input_dim, hidden_dim, output_dim, dropout = 0.5):\n",
        "        super().__init__()\n",
        "        self.fc_1 = nn.Linear(input_dim, hidden_dim)\n",
        "        self.fc_2 = nn.Linear(hidden_dim, output_dim)\n",
        "        self.dropout = nn.Dropout(dropout)\n",
        "\n",
        "    def forward(self, x):\n",
        "        x = self.fc_1(x)\n",
        "        x = self.dropout(x)\n",
        "        x = F.relu(x)\n",
        "        x = self.fc_2(x)\n",
        "        return x"
      ],
      "execution_count": 31,
      "outputs": []
    },
    {
      "cell_type": "code",
      "metadata": {
        "colab": {
          "base_uri": "https://localhost:8080/"
        },
        "id": "886batqH1weE",
        "outputId": "bf84b5ec-6a19-4483-fde1-a47e31035a7c"
      },
      "source": [
        "input_dim = train_env.observation_space.shape[0]\n",
        "print(input_dim)"
      ],
      "execution_count": 32,
      "outputs": [
        {
          "output_type": "stream",
          "name": "stdout",
          "text": [
            "4\n"
          ]
        }
      ]
    },
    {
      "cell_type": "code",
      "metadata": {
        "colab": {
          "base_uri": "https://localhost:8080/"
        },
        "id": "sezM-zii15wm",
        "outputId": "8b5dfe7f-ede7-4c03-d009-ff63514366f8"
      },
      "source": [
        "output_dim = train_env.action_space.n\n",
        "print(output_dim)"
      ],
      "execution_count": 33,
      "outputs": [
        {
          "output_type": "stream",
          "name": "stdout",
          "text": [
            "2\n"
          ]
        }
      ]
    },
    {
      "cell_type": "code",
      "metadata": {
        "colab": {
          "base_uri": "https://localhost:8080/"
        },
        "id": "hBT3fcs52BVX",
        "outputId": "daa95733-20a2-417c-f1a6-9673f03094a1"
      },
      "source": [
        "hidden_dim = 128\n",
        "policy = PolicyNet(input_dim,hidden_dim,output_dim)\n",
        "print(policy)"
      ],
      "execution_count": 34,
      "outputs": [
        {
          "output_type": "stream",
          "name": "stdout",
          "text": [
            "PolicyNet(\n",
            "  (fc_1): Linear(in_features=4, out_features=128, bias=True)\n",
            "  (fc_2): Linear(in_features=128, out_features=2, bias=True)\n",
            "  (dropout): Dropout(p=0.5, inplace=False)\n",
            ")\n"
          ]
        }
      ]
    },
    {
      "cell_type": "code",
      "metadata": {
        "id": "Mdmi9Af-2O98"
      },
      "source": [
        "optimizer = optim.Adam(policy.parameters(),lr=0.01)"
      ],
      "execution_count": 35,
      "outputs": []
    },
    {
      "cell_type": "markdown",
      "metadata": {
        "id": "ZCZKAl6S2pdD"
      },
      "source": [
        "Let us now set up the core PG method. \n",
        "\n",
        "It's a bit more involved than just declaring a loss function and computing `loss.backward()` since at each iteration we will need to sample a bunch of trajectories (rollouts), measure rewards/returns, and use the log-derivative trick.\n",
        "\n",
        "Let's first calculate expected discounted future rewards (or returns).\n",
        "\n"
      ]
    },
    {
      "cell_type": "code",
      "metadata": {
        "id": "FmAoHM7-2uQ-"
      },
      "source": [
        "def calculate_returns(rewards, discount_factor, normalize = True):\n",
        "    \n",
        "    returns = []\n",
        "    R = 0\n",
        "    \n",
        "    for r in reversed(rewards):\n",
        "        R = r + R * discount_factor\n",
        "        returns.insert(0, R)\n",
        "        \n",
        "    returns = torch.tensor(returns)    \n",
        "    if normalize:\n",
        "        returns = (returns - returns.mean()) / returns.std()\n",
        "        \n",
        "    return returns"
      ],
      "execution_count": 36,
      "outputs": []
    },
    {
      "cell_type": "markdown",
      "metadata": {
        "id": "PdBmbLDE4cyM"
      },
      "source": [
        "Now let's compute the gradients. Recall [from our notes](https://chinmayhegde.github.io/dl-notes/notes/lecture09/) that this gradient is equal to the expected reward, times the log of the output of the policy network."
      ]
    },
    {
      "cell_type": "code",
      "metadata": {
        "id": "YUHZJnuq4uBF"
      },
      "source": [
        "def update_policy(returns, log_prob_actions, optimizer):\n",
        "    \n",
        "    returns = returns.detach()    \n",
        "    loss = - (returns * log_prob_actions).sum()\n",
        "\n",
        "    optimizer.zero_grad()    \n",
        "    loss.backward()  \n",
        "    optimizer.step()\n",
        "    \n",
        "    return loss.item()"
      ],
      "execution_count": 37,
      "outputs": []
    },
    {
      "cell_type": "markdown",
      "metadata": {
        "id": "Ioo3Nr7s45ha"
      },
      "source": [
        "So finally we are ready to write our training procedure.\n",
        "\n",
        "Some notes to keep in mind:\n",
        "\n",
        "* our policy network produces a probability distribution over actions. We cannnot simply choose the best action each time; instead, we *sample* from this distribution\n",
        "\n",
        "* We keep a running track of the log of the probabilities (needed to compute the returns as discussed above).\n",
        "\n",
        "* Once we choose an action, the environment produces a reward, and moves to the next state. This is achieved by `env.step`. We keep track of the rewards (need to compute the returns as discussed above).\n",
        "\n",
        "* The `done` variable gets set to one if the episode ends (i.e. the agent either reaches the goal, or gets terminated).\n"
      ]
    },
    {
      "cell_type": "code",
      "metadata": {
        "id": "HHB-hfV64-uU"
      },
      "source": [
        "def train(env, policy, optimizer, discount_factor):\n",
        "    \n",
        "    policy.train()\n",
        "    \n",
        "    log_prob_actions = []\n",
        "    rewards = []\n",
        "    done = False\n",
        "    episode_reward = 0\n",
        "\n",
        "    state = env.reset()\n",
        "\n",
        "    while not done:\n",
        "\n",
        "        state = torch.FloatTensor(state).unsqueeze(0)\n",
        "        action_pred = policy(state)\n",
        "        action_prob = F.softmax(action_pred, dim = -1)\n",
        "                \n",
        "        dist = distributions.Categorical(action_prob)\n",
        "        action = dist.sample()\n",
        "        log_prob_action = dist.log_prob(action)\n",
        "        \n",
        "        state, reward, done, _ = env.step(action.item())\n",
        "\n",
        "        log_prob_actions.append(log_prob_action)\n",
        "        rewards.append(reward)\n",
        "\n",
        "        episode_reward += reward\n",
        "\n",
        "    log_prob_actions = torch.cat(log_prob_actions)\n",
        "    returns = calculate_returns(rewards, discount_factor)\n",
        "    loss = update_policy(returns, log_prob_actions, optimizer)\n",
        "\n",
        "    return loss, episode_reward"
      ],
      "execution_count": 38,
      "outputs": []
    },
    {
      "cell_type": "markdown",
      "metadata": {
        "id": "v0YnkbrK6GXs"
      },
      "source": [
        "On the side, we also write a function to test our learned policy. It's similar to training, except that testing is done by choosing the best action at each time step. Also, there is no need to keep track of log probabilities (since there are no gradients to be calculated)."
      ]
    },
    {
      "cell_type": "code",
      "metadata": {
        "id": "rfvfwiUK6R_A"
      },
      "source": [
        "def evaluate(env, policy):\n",
        "    \n",
        "    policy.eval()\n",
        "    \n",
        "    done = False\n",
        "    episode_reward = 0\n",
        "    state = env.reset()\n",
        "\n",
        "    while not done:\n",
        "        \n",
        "        state = torch.FloatTensor(state).unsqueeze(0)\n",
        "        \n",
        "        with torch.no_grad():\n",
        "        \n",
        "            action_pred = policy(state)        \n",
        "            action_prob = F.softmax(action_pred, dim = -1)\n",
        "                            \n",
        "        action = torch.argmax(action_prob, dim = -1)          \n",
        "        state, reward, done, _ = env.step(action.item())\n",
        "        episode_reward += reward\n",
        "        \n",
        "    return episode_reward"
      ],
      "execution_count": 39,
      "outputs": []
    },
    {
      "cell_type": "markdown",
      "metadata": {
        "id": "l6EH1RbB7C83"
      },
      "source": [
        "That's it. Let's set up some boilerplate code to train our policy network for some number of episodes.\n",
        "\n",
        "We will exit early if the average reward (measured over some moving window) is better than some threshold."
      ]
    },
    {
      "cell_type": "code",
      "metadata": {
        "colab": {
          "base_uri": "https://localhost:8080/"
        },
        "id": "RfWk6YOP7Y76",
        "outputId": "fd378913-f5c1-4dfa-dd69-bda8e7ba18be"
      },
      "source": [
        "max_episodes = 500\n",
        "df = 0.99\n",
        "N_TRIALS = 25\n",
        "REWARD_THRESHOLD = 475\n",
        "PRINT_EVERY = 10\n",
        "\n",
        "train_rewards = []\n",
        "test_rewards = []\n",
        "\n",
        "for episode in range(1, max_episodes+1):\n",
        "    \n",
        "    loss, train_reward = train(train_env, policy, optimizer, df)\n",
        "    test_reward = evaluate(test_env, policy)\n",
        "    \n",
        "    train_rewards.append(train_reward)\n",
        "    test_rewards.append(test_reward)\n",
        "    \n",
        "    mean_train_rewards = np.mean(train_rewards[-N_TRIALS:])\n",
        "    mean_test_rewards = np.mean(test_rewards[-N_TRIALS:])\n",
        "    \n",
        "    if episode % PRINT_EVERY == 0:    \n",
        "        print(f'| Episode: {episode:3} | Mean Train Rewards: {mean_train_rewards:5.1f} | Mean Test Rewards: {mean_test_rewards:5.1f} |')\n",
        "    \n",
        "    if mean_test_rewards >= REWARD_THRESHOLD:\n",
        "        print(f'Reached reward threshold in {episode} episodes')\n",
        "        break"
      ],
      "execution_count": 40,
      "outputs": [
        {
          "output_type": "stream",
          "name": "stdout",
          "text": [
            "| Episode:  10 | Mean Train Rewards:  15.2 | Mean Test Rewards:   9.4 |\n",
            "| Episode:  20 | Mean Train Rewards:  13.6 | Mean Test Rewards:   9.4 |\n",
            "| Episode:  30 | Mean Train Rewards:  12.5 | Mean Test Rewards:   9.5 |\n",
            "| Episode:  40 | Mean Train Rewards:  14.6 | Mean Test Rewards:  10.7 |\n",
            "| Episode:  50 | Mean Train Rewards:  31.7 | Mean Test Rewards:  28.4 |\n",
            "| Episode:  60 | Mean Train Rewards:  42.8 | Mean Test Rewards:  43.0 |\n",
            "| Episode:  70 | Mean Train Rewards:  59.7 | Mean Test Rewards:  89.3 |\n",
            "| Episode:  80 | Mean Train Rewards:  88.8 | Mean Test Rewards: 168.3 |\n",
            "| Episode:  90 | Mean Train Rewards: 135.2 | Mean Test Rewards: 303.6 |\n",
            "| Episode: 100 | Mean Train Rewards: 185.3 | Mean Test Rewards: 356.5 |\n",
            "| Episode: 110 | Mean Train Rewards: 196.4 | Mean Test Rewards: 327.2 |\n",
            "| Episode: 120 | Mean Train Rewards: 178.3 | Mean Test Rewards: 261.0 |\n",
            "| Episode: 130 | Mean Train Rewards: 174.9 | Mean Test Rewards: 256.9 |\n",
            "| Episode: 140 | Mean Train Rewards: 137.0 | Mean Test Rewards: 150.6 |\n",
            "| Episode: 150 | Mean Train Rewards:  98.6 | Mean Test Rewards: 111.8 |\n",
            "| Episode: 160 | Mean Train Rewards:  87.9 | Mean Test Rewards:  96.2 |\n",
            "| Episode: 170 | Mean Train Rewards:  88.3 | Mean Test Rewards:  99.3 |\n",
            "| Episode: 180 | Mean Train Rewards:  82.5 | Mean Test Rewards: 100.6 |\n",
            "| Episode: 190 | Mean Train Rewards:  93.0 | Mean Test Rewards: 146.6 |\n",
            "| Episode: 200 | Mean Train Rewards: 175.5 | Mean Test Rewards: 288.5 |\n",
            "| Episode: 210 | Mean Train Rewards: 232.2 | Mean Test Rewards: 399.8 |\n",
            "| Episode: 220 | Mean Train Rewards: 240.0 | Mean Test Rewards: 331.9 |\n",
            "| Episode: 230 | Mean Train Rewards: 233.9 | Mean Test Rewards: 328.9 |\n",
            "| Episode: 240 | Mean Train Rewards: 324.0 | Mean Test Rewards: 347.2 |\n",
            "| Episode: 250 | Mean Train Rewards: 455.2 | Mean Test Rewards: 438.0 |\n",
            "| Episode: 260 | Mean Train Rewards: 468.0 | Mean Test Rewards: 472.5 |\n",
            "Reached reward threshold in 261 episodes\n"
          ]
        }
      ]
    },
    {
      "cell_type": "markdown",
      "metadata": {
        "id": "0wBEfL_i78vS"
      },
      "source": [
        "Let's see how we did!"
      ]
    },
    {
      "cell_type": "code",
      "metadata": {
        "colab": {
          "base_uri": "https://localhost:8080/",
          "height": 506
        },
        "id": "OIgkCuQM77_-",
        "outputId": "1b2bbc6e-e9f0-441c-82b8-2f8bea76f362"
      },
      "source": [
        "plt.figure(figsize=(8,8))\n",
        "plt.plot(test_rewards, label='Test Reward')\n",
        "plt.plot(train_rewards, label='Train Reward')\n",
        "plt.xlabel('Episode', fontsize=20)\n",
        "plt.ylabel('Reward', fontsize=20)\n",
        "plt.hlines(REWARD_THRESHOLD, 0, len(test_rewards), color='r')\n",
        "plt.legend(loc='lower right')\n",
        "plt.grid()"
      ],
      "execution_count": 42,
      "outputs": [
        {
          "output_type": "display_data",
          "data": {
            "image/png": "[encoded data removed]",
            "text/plain": [
              "<Figure size 576x576 with 1 Axes>"
            ]
          },
          "metadata": {
            "needs_background": "light"
          }
        }
      ]
    }
  ]
}